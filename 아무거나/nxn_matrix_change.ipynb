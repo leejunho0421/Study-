{
  "nbformat": 4,
  "nbformat_minor": 0,
  "metadata": {
    "colab": {
      "name": "nxn matrix change.ipynb",
      "provenance": [],
      "collapsed_sections": []
    },
    "kernelspec": {
      "name": "python3",
      "display_name": "Python 3"
    }
  },
  "cells": [
    {
      "cell_type": "code",
      "metadata": {
        "id": "XG5zjEDLIiwj"
      },
      "source": [
        "import pandas as pd\n",
        "import numpy as np\n",
        "import sys"
      ],
      "execution_count": null,
      "outputs": []
    },
    {
      "cell_type": "code",
      "metadata": {
        "id": "8tjgFAvbMTNI"
      },
      "source": [
        "data = pd.read_csv('/content/drive/My Drive/확통/Drug data.csv')"
      ],
      "execution_count": null,
      "outputs": []
    },
    {
      "cell_type": "code",
      "metadata": {
        "id": "EhVgRmRkXzXo"
      },
      "source": [
        "drug_list = np.array(data['Column1'])\n",
        "drug_list = np.unique(drug_list)\n",
        "drug2_list = np.array(data['Column2'])\n",
        "drug2_list = np.unique(drug2_list)\n",
        "\n",
        "cols = {}\n",
        "interaction = {}\n",
        "\n",
        "for i in range(len(drug2_list)):\n",
        "  cols[drug2_list[i]] = [0] * len(drug_list)\n",
        "  interaction[drug2_list[i]] = np.where(np.array(data['Column2']) == drug2_list[i])\n",
        "\n",
        "for i in interaction:\n",
        " for j in interaction[i][0]:\n",
        "  cols[i][np.where(drug_list == data['Column1'][j])[0][0]] = data['Column3'][j]\n",
        "\n",
        "new_data = pd.DataFrame(cols, index = drug_list) \n",
        "new_data.to_csv('/content/drive/My Drive/확통/sample_file.txt', index=True, header=True, sep=\"\\t\")\n"
      ],
      "execution_count": null,
      "outputs": []
    },
    {
      "cell_type": "code",
      "metadata": {
        "id": "bMulGbeVXTY6"
      },
      "source": [
        "data"
      ],
      "execution_count": null,
      "outputs": []
    },
    {
      "cell_type": "code",
      "metadata": {
        "id": "Z11cI3gkWgfu"
      },
      "source": [
        "new_data"
      ],
      "execution_count": null,
      "outputs": []
    },
    {
      "cell_type": "code",
      "metadata": {
        "id": "qTq2lqprqM_1"
      },
      "source": [
        "new_data.shape"
      ],
      "execution_count": null,
      "outputs": []
    },
    {
      "cell_type": "markdown",
      "metadata": {
        "id": "PNTuyI-_ooQL"
      },
      "source": [
        "Ver.446"
      ]
    },
    {
      "cell_type": "code",
      "metadata": {
        "id": "0B9Sk6jYonIl"
      },
      "source": [
        "ver4 = pd.read_csv('/content/drive/My Drive/확통/446.csv')\n",
        "ver4.shape"
      ],
      "execution_count": null,
      "outputs": []
    }
  ]
}